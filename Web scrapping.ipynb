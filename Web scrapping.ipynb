{
 "cells": [
  {
   "cell_type": "code",
   "execution_count": 1,
   "metadata": {},
   "outputs": [],
   "source": [
    "from bs4 import BeautifulSoup\n",
    "import requests\n",
    "import re\n",
    "import os"
   ]
  },
  {
   "attachments": {},
   "cell_type": "markdown",
   "metadata": {},
   "source": [
    "## Shakespeare"
   ]
  },
  {
   "cell_type": "code",
   "execution_count": 2,
   "metadata": {},
   "outputs": [],
   "source": [
    "main_url = 'http://shakespeare.mit.edu/'\n",
    "\n",
    "response = requests.get(main_url)\n",
    "main_soup = BeautifulSoup(response.content, 'html.parser')\n",
    "\n",
    "td_elements = main_soup.find_all('td', attrs={'valign': 'BASELINE'})\n",
    "\n",
    "# print(f\"The number of td_elements are {len(td_elements)}\")\n",
    "\n",
    "for td_element in td_elements:\n",
    "    links = td_element.find_all('a')   \n",
    "    for link in links:\n",
    "        href = link['href']\n",
    "        # print(href)"
   ]
  },
  {
   "cell_type": "code",
   "execution_count": 3,
   "metadata": {},
   "outputs": [
    {
     "name": "stdout",
     "output_type": "stream",
     "text": [
      "Poetry/sonnets.html\n",
      "Poetry/LoversComplaint.html\n",
      "Poetry/RapeOfLucrece.html\n",
      "Poetry/VenusAndAdonis.html\n",
      "Poetry/elegy.html\n"
     ]
    }
   ],
   "source": [
    "# getting only poetry\n",
    "poems = td_elements[-1]\n",
    "links = poems.find_all('a')   \n",
    "for link in links:\n",
    "    href = link['href']\n",
    "    print(href)"
   ]
  },
  {
   "cell_type": "code",
   "execution_count": 4,
   "metadata": {},
   "outputs": [],
   "source": [
    "# getting sonnet links\n",
    "sonnet_url = main_url + links[0]['href']\n",
    "\n",
    "response = requests.get(sonnet_url)\n",
    "main_soup = BeautifulSoup(response.content, 'html.parser')\n",
    "\n",
    "link_elements = main_soup.find_all('a')\n",
    "poem_links = []\n",
    "for link in link_elements[1:]:\n",
    "    href = link['href']\n",
    "    poem_link = 'http://shakespeare.mit.edu/Poetry/' + href\n",
    "    poem_links.append(poem_link)    \n",
    "\n",
    "output_file = 'Poems\\William Shakespeare\\Sonnet.txt'\n",
    "\n",
    "with open(output_file, 'w', encoding='utf-8') as file:\n",
    "    for link in poem_links:\n",
    "        response = requests.get(link)        \n",
    "        soup = BeautifulSoup(response.text, 'html.parser')\n",
    "        blockquote_element = soup.find('blockquote')\n",
    "        text = blockquote_element.get_text()        \n",
    "        file.write(text)\n",
    "        file.write('\\n')\n",
    "\n",
    "print(f\"Scraping completed. The texts are saved in '{output_file}'.\")"
   ]
  },
  {
   "cell_type": "code",
   "execution_count": 8,
   "metadata": {},
   "outputs": [],
   "source": [
    "# getting lovers_complaint links\n",
    "lovers_complaint_url = main_url + links[1]['href']\n",
    "\n",
    "response = requests.get(lovers_complaint_url)\n",
    "main_soup = BeautifulSoup(response.content, 'html.parser')\n",
    "\n",
    "output_file = 'Poems\\William Shakespeare\\Lovers complaint.txt'\n",
    "\n",
    "with open(output_file, 'w', encoding='utf-8') as file:\n",
    "    response = requests.get(lovers_complaint_url)        \n",
    "    soup = BeautifulSoup(response.text, 'html.parser')\n",
    "    blockquote_elements = soup.find_all('blockquote')\n",
    "    for blockquote_element in blockquote_elements:\n",
    "        text = blockquote_element.get_text()        \n",
    "        file.write(text)\n",
    "        file.write('\\n')\n",
    "\n",
    "print(f\"Scraping completed. The texts are saved in '{output_file}'.\")"
   ]
  },
  {
   "cell_type": "code",
   "execution_count": 10,
   "metadata": {},
   "outputs": [],
   "source": [
    "# getting rape_of_lucree links\n",
    "rape_of_lucrece_url = main_url + links[2]['href']\n",
    "\n",
    "response = requests.get(rape_of_lucrece_url)\n",
    "main_soup = BeautifulSoup(response.content, 'html.parser')\n",
    "\n",
    "output_file = 'Poems\\William Shakespeare\\Rape of Lucrece.txt'\n",
    "\n",
    "with open(output_file, 'w', encoding='utf-8') as file:\n",
    "    response = requests.get(rape_of_lucrece_url)        \n",
    "    soup = BeautifulSoup(response.text, 'html.parser')\n",
    "    blockquote_elements = soup.find_all('blockquote')\n",
    "    for blockquote_element in blockquote_elements:\n",
    "        text = blockquote_element.get_text()        \n",
    "        file.write(text)\n",
    "        file.write('\\n')\n",
    "\n",
    "print(f\"Scraping completed. The texts are saved in '{output_file}'.\")"
   ]
  },
  {
   "cell_type": "code",
   "execution_count": 12,
   "metadata": {},
   "outputs": [],
   "source": [
    "# getting venus_and_adonis links\n",
    "venus_and_adonis_url = main_url + links[3]['href']\n",
    "\n",
    "response = requests.get(venus_and_adonis_url)\n",
    "main_soup = BeautifulSoup(response.content, 'html.parser')\n",
    "\n",
    "output_file = 'Poems\\William Shakespeare\\Venus and Adonis.txt'\n",
    "\n",
    "with open(output_file, 'w', encoding='utf-8') as file:\n",
    "    response = requests.get(venus_and_adonis_url)        \n",
    "    soup = BeautifulSoup(response.text, 'html.parser')\n",
    "    blockquote_elements = soup.find_all('blockquote')\n",
    "    for blockquote_element in blockquote_elements:\n",
    "        text = blockquote_element.get_text()        \n",
    "        file.write(text)\n",
    "        file.write('\\n')\n",
    "\n",
    "print(f\"Scraping completed. The texts are saved in '{output_file}'.\")"
   ]
  },
  {
   "cell_type": "code",
   "execution_count": 14,
   "metadata": {},
   "outputs": [],
   "source": [
    "# links for funeral_elegy:\n",
    "funeral_elegy_url = main_url + links[4]['href']\n",
    "\n",
    "response = requests.get(funeral_elegy_url)\n",
    "main_soup = BeautifulSoup(response.content, 'html.parser')\n",
    "\n",
    "output_file = 'Poems\\William Shakespeare\\A funeral elegy.txt'\n",
    "\n",
    "td_element = main_soup.find('td')\n",
    "text = td_element.get_text()\n",
    "text = re.sub(r'\\b\\d+\\b', '', text)\n",
    "\n",
    "lines = text.split('\\n')\n",
    "\n",
    "# for line in lines:\n",
    "#     print(line.strip())\n",
    "with open(output_file, 'w') as file:\n",
    "    for line in lines:\n",
    "        file.write(line.strip() + '\\n')\n",
    "        \n",
    "print(f\"Scraping completed. The texts are saved in '{output_file}'.\")"
   ]
  },
  {
   "cell_type": "code",
   "execution_count": 16,
   "metadata": {},
   "outputs": [],
   "source": [
    "# Merging all poems into one file\n",
    "folder_path = \"Poems/William Shakespeare\"\n",
    "output_file = \"Poems/William Shakespeare/Shakespeare's poems.txt\"\n",
    "\n",
    "with open(output_file, 'w') as outfile:\n",
    "    for filename in os.listdir(folder_path):\n",
    "        if filename.endswith('.txt'):\n",
    "            file_path = os.path.join(folder_path, filename)\n",
    "            with open(file_path, 'r') as infile:\n",
    "                outfile.write(infile.read())\n",
    "            outfile.write('\\n')"
   ]
  },
  {
   "attachments": {},
   "cell_type": "markdown",
   "metadata": {},
   "source": [
    "## Slyvia plath\n"
   ]
  },
  {
   "cell_type": "code",
   "execution_count": 14,
   "metadata": {},
   "outputs": [
    {
     "name": "stdout",
     "output_type": "stream",
     "text": [
      "Poems merged and saved successfully.\n"
     ]
    }
   ],
   "source": [
    "main_url = 'https://mypoeticside.com/poets/sylvia-plath-poems'\n",
    "\n",
    "response = requests.get(main_url)\n",
    "main_soup = BeautifulSoup(response.content, 'html.parser')\n",
    "\n",
    "urls = main_soup.find_all('a', attrs={'rel': 'nofollow'})\n",
    "urls = urls[:230]\n",
    "\n",
    "poems = []\n",
    "\n",
    "for url in urls:\n",
    "    poem_url = 'https:' + url['href']\n",
    "    response = requests.get(poem_url)\n",
    "    poem_soup = BeautifulSoup(response.content, 'html.parser')\n",
    "    p_element = poem_soup.find('p')\n",
    "    poem_text = p_element.get_text()\n",
    "\n",
    "    poems.append(poem_text.strip())\n",
    "\n",
    "merged_poems = '\\n\\n'.join(poems)\n",
    "\n",
    "output_file = 'Poems\\Slyvia Plath\\sylvia_plath_merged.txt'\n",
    "with open(output_file, 'w', encoding='utf-8') as file:\n",
    "    file.write(merged_poems)\n",
    "\n",
    "print('Poems merged and saved successfully.')"
   ]
  },
  {
   "attachments": {},
   "cell_type": "markdown",
   "metadata": {},
   "source": [
    "## Emily Dickinson"
   ]
  },
  {
   "attachments": {},
   "cell_type": "markdown",
   "metadata": {},
   "source": [
    "#### Part I"
   ]
  },
  {
   "cell_type": "code",
   "execution_count": 36,
   "metadata": {},
   "outputs": [
    {
     "name": "stdout",
     "output_type": "stream",
     "text": [
      "Poems merged and saved successfully.\n"
     ]
    }
   ],
   "source": [
    "main_url = 'https://mypoeticside.com/poets/emily-dickinson-poems'\n",
    "\n",
    "response = requests.get(main_url)\n",
    "main_soup = BeautifulSoup(response.content, 'html.parser')\n",
    "\n",
    "urls = main_soup.find_all('a', attrs={'rel': 'nofollow'})\n",
    "url1 = urls[:351]\n",
    "\n",
    "poems = []\n",
    "\n",
    "for url in url1:\n",
    "    poem_url = 'https:' + url['href']\n",
    "    response = requests.get(poem_url)\n",
    "    poem_soup = BeautifulSoup(response.content, 'html.parser')\n",
    "    p_element = poem_soup.find('p')\n",
    "    poem_text = p_element.get_text()\n",
    "    poem_text = re.sub(r'\\b\\d+\\b', '', poem_text)\n",
    "\n",
    "    poems.append(poem_text.strip())\n",
    "\n",
    "merged_poems = '\\n\\n'.join(poems)\n",
    "\n",
    "output_file = 'Poems\\Emily Dickinson\\emily_dickinson_merged_I.txt'\n",
    "with open(output_file, 'w', encoding='utf-8') as file:\n",
    "    file.write(merged_poems)\n",
    "\n",
    "print('Poems merged and saved successfully.')"
   ]
  },
  {
   "attachments": {},
   "cell_type": "markdown",
   "metadata": {},
   "source": [
    "#### Part II"
   ]
  },
  {
   "cell_type": "code",
   "execution_count": 37,
   "metadata": {},
   "outputs": [
    {
     "name": "stdout",
     "output_type": "stream",
     "text": [
      "Poems merged and saved successfully.\n"
     ]
    }
   ],
   "source": [
    "main_url = 'https://mypoeticside.com/poets/emily-dickinson-poems'\n",
    "\n",
    "response = requests.get(main_url)\n",
    "main_soup = BeautifulSoup(response.content, 'html.parser')\n",
    "\n",
    "urls = main_soup.find_all('a', attrs={'rel': 'nofollow'})\n",
    "url2 = urls[351:752]\n",
    "\n",
    "poems = []\n",
    "\n",
    "for url in url2:\n",
    "    poem_url = 'https:' + url['href']\n",
    "    response = requests.get(poem_url)\n",
    "    poem_soup = BeautifulSoup(response.content, 'html.parser')\n",
    "    p_element = poem_soup.find('p')\n",
    "    poem_text = p_element.get_text()\n",
    "    poem_text = re.sub(r'\\b\\d+\\b', '', poem_text)\n",
    "\n",
    "    poems.append(poem_text.strip())\n",
    "\n",
    "merged_poems = '\\n\\n'.join(poems)\n",
    "\n",
    "output_file = 'Poems\\Emily Dickinson\\emily_dickinson_merged_II.txt'\n",
    "with open(output_file, 'w', encoding='utf-8') as file:\n",
    "    file.write(merged_poems)\n",
    "\n",
    "print('Poems merged and saved successfully.')"
   ]
  },
  {
   "attachments": {},
   "cell_type": "markdown",
   "metadata": {},
   "source": [
    "### Part III"
   ]
  },
  {
   "cell_type": "code",
   "execution_count": 38,
   "metadata": {},
   "outputs": [
    {
     "name": "stdout",
     "output_type": "stream",
     "text": [
      "Poems merged and saved successfully.\n"
     ]
    }
   ],
   "source": [
    "main_url = 'https://mypoeticside.com/poets/emily-dickinson-poems'\n",
    "\n",
    "response = requests.get(main_url)\n",
    "main_soup = BeautifulSoup(response.content, 'html.parser')\n",
    "\n",
    "urls = main_soup.find_all('a', attrs={'rel': 'nofollow'})\n",
    "url3 = urls[753:1055]\n",
    "\n",
    "poems = []\n",
    "\n",
    "for url in url3:\n",
    "    poem_url = 'https:' + url['href']\n",
    "    response = requests.get(poem_url)\n",
    "    poem_soup = BeautifulSoup(response.content, 'html.parser')\n",
    "    p_element = poem_soup.find('p')\n",
    "    poem_text = p_element.get_text()\n",
    "    poem_text = re.sub(r'\\b\\d+\\b', '', poem_text)\n",
    "\n",
    "    poems.append(poem_text.strip())\n",
    "\n",
    "merged_poems = '\\n\\n'.join(poems)\n",
    "\n",
    "output_file = 'Poems\\Emily Dickinson\\emily_dickinson_merged_III.txt'\n",
    "with open(output_file, 'w', encoding='utf-8') as file:\n",
    "    file.write(merged_poems)\n",
    "\n",
    "print('Poems merged and saved successfully.')"
   ]
  },
  {
   "cell_type": "code",
   "execution_count": 39,
   "metadata": {},
   "outputs": [],
   "source": [
    "# Merging all poems into one file\n",
    "folder_path = \"Poems\\Emily Dickinson\"\n",
    "output_file = \"Poems\\Emily Dickinson\\Emily Dickinsons' poems.txt\"\n",
    "\n",
    "with open(output_file, 'w') as outfile:\n",
    "    for filename in os.listdir(folder_path):\n",
    "        if filename.endswith('.txt'):\n",
    "            file_path = os.path.join(folder_path, filename)\n",
    "            with open(file_path, 'r') as infile:\n",
    "                outfile.write(infile.read())\n",
    "            outfile.write('\\n')"
   ]
  },
  {
   "attachments": {},
   "cell_type": "markdown",
   "metadata": {},
   "source": [
    "## Walt Whitman"
   ]
  },
  {
   "cell_type": "code",
   "execution_count": 42,
   "metadata": {},
   "outputs": [
    {
     "name": "stdout",
     "output_type": "stream",
     "text": [
      "Poems merged and saved successfully.\n"
     ]
    }
   ],
   "source": [
    "main_url = 'https://mypoeticside.com/poets/walt-whitman-poems'\n",
    "\n",
    "response = requests.get(main_url)\n",
    "main_soup = BeautifulSoup(response.content, 'html.parser')\n",
    "\n",
    "urls = main_soup.find_all('a', attrs={'rel': 'nofollow'})\n",
    "urls = urls[:330]\n",
    "\n",
    "poems = []\n",
    "\n",
    "for url in urls:\n",
    "    poem_url = 'https:' + url['href']\n",
    "    response = requests.get(poem_url)\n",
    "    poem_soup = BeautifulSoup(response.content, 'html.parser')\n",
    "    p_element = poem_soup.find('p')\n",
    "    poem_text = p_element.get_text()\n",
    "    poem_text = re.sub(r'\\b\\d+\\b', '', poem_text)\n",
    "\n",
    "    poems.append(poem_text.strip())\n",
    "\n",
    "merged_poems = '\\n\\n'.join(poems)\n",
    "\n",
    "output_file = 'Poems\\Walt Whitman\\walt_whitman.txt'\n",
    "with open(output_file, 'w', encoding='utf-8') as file:\n",
    "    file.write(merged_poems)\n",
    "\n",
    "print('Poems merged and saved successfully.')"
   ]
  }
 ],
 "metadata": {
  "kernelspec": {
   "display_name": "Python 3",
   "language": "python",
   "name": "python3"
  },
  "language_info": {
   "codemirror_mode": {
    "name": "ipython",
    "version": 3
   },
   "file_extension": ".py",
   "mimetype": "text/x-python",
   "name": "python",
   "nbconvert_exporter": "python",
   "pygments_lexer": "ipython3",
   "version": "3.9.16"
  },
  "orig_nbformat": 4
 },
 "nbformat": 4,
 "nbformat_minor": 2
}
