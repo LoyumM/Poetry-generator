{
 "cells": [
  {
   "cell_type": "code",
   "execution_count": 1,
   "metadata": {},
   "outputs": [],
   "source": [
    "from bs4 import BeautifulSoup\n",
    "import requests"
   ]
  },
  {
   "cell_type": "code",
   "execution_count": 2,
   "metadata": {},
   "outputs": [],
   "source": [
    "main_url = 'http://shakespeare.mit.edu/'\n",
    "\n",
    "response = requests.get(main_url)\n",
    "main_soup = BeautifulSoup(response.content, 'html.parser')\n",
    "\n",
    "td_elements = main_soup.find_all('td', attrs={'valign': 'BASELINE'})\n",
    "\n",
    "# print(f\"The number of td_elements are {len(td_elements)}\")\n",
    "\n",
    "for td_element in td_elements:\n",
    "    links = td_element.find_all('a')   \n",
    "    for link in links:\n",
    "        href = link['href']\n",
    "        # print(href)"
   ]
  },
  {
   "cell_type": "code",
   "execution_count": 3,
   "metadata": {},
   "outputs": [
    {
     "name": "stdout",
     "output_type": "stream",
     "text": [
      "Poetry/sonnets.html\n",
      "Poetry/LoversComplaint.html\n",
      "Poetry/RapeOfLucrece.html\n",
      "Poetry/VenusAndAdonis.html\n",
      "Poetry/elegy.html\n"
     ]
    }
   ],
   "source": [
    "# getting only poetry\n",
    "poems = td_elements[-1]\n",
    "links = poems.find_all('a')   \n",
    "for link in links:\n",
    "    href = link['href']\n",
    "    print(href)"
   ]
  },
  {
   "cell_type": "code",
   "execution_count": 7,
   "metadata": {},
   "outputs": [],
   "source": [
    "# getting sonnet links\n",
    "sonnet_url = main_url + links[0]['href']\n",
    "\n",
    "response = requests.get(sonnet_url)\n",
    "main_soup = BeautifulSoup(response.content, 'html.parser')"
   ]
  },
  {
   "cell_type": "code",
   "execution_count": null,
   "metadata": {},
   "outputs": [],
   "source": [
    "# sonnet_url"
   ]
  },
  {
   "cell_type": "code",
   "execution_count": 8,
   "metadata": {},
   "outputs": [],
   "source": [
    "link_elements = main_soup.find_all('a')\n",
    "poem_links = []\n",
    "for link in link_elements[1:]:\n",
    "    href = link['href']\n",
    "    poem_link = 'http://shakespeare.mit.edu/Poetry/' + href\n",
    "    poem_links.append(poem_link)    \n",
    "# poem_links"
   ]
  },
  {
   "cell_type": "code",
   "execution_count": 10,
   "metadata": {},
   "outputs": [
    {
     "name": "stdout",
     "output_type": "stream",
     "text": [
      "FROM fairest creatures we desire increase,\n",
      "That thereby beauty's rose might never die,\n",
      "But as the riper should by time decease,\n",
      "His tender heir might bear his memory:\n",
      "But thou, contracted to thine own bright eyes,\n",
      "Feed'st thy light'st flame with self-substantial fuel,\n",
      "Making a famine where abundance lies,\n",
      "Thyself thy foe, to thy sweet self too cruel.\n",
      "Thou that art now the world's fresh ornament\n",
      "And only herald to the gaudy spring,\n",
      "Within thine own bud buriest thy content\n",
      "And, tender churl, makest waste in niggarding.\n",
      "  Pity the world, or else this glutton be,\n",
      "  To eat the world's due, by the grave and thee.\n",
      "\n"
     ]
    }
   ],
   "source": [
    "link = poem_links[0]\n",
    "\n",
    "response = requests.get(link)\n",
    "main_soup = BeautifulSoup(response.content, 'html.parser')\n",
    "\n",
    "blockquote_element = main_soup.find('blockquote')\n",
    "# main_soup.find('blockquote')\n",
    "text = blockquote_element.get_text()\n",
    "\n",
    "print(text)"
   ]
  },
  {
   "cell_type": "code",
   "execution_count": 9,
   "metadata": {},
   "outputs": [
    {
     "data": {
      "text/plain": [
       "['http://shakespeare.mit.edu/Poetry/sonnet.I.html',\n",
       " 'http://shakespeare.mit.edu/Poetry/sonnet.II.html',\n",
       " 'http://shakespeare.mit.edu/Poetry/sonnet.III.html',\n",
       " 'http://shakespeare.mit.edu/Poetry/sonnet.IV.html',\n",
       " 'http://shakespeare.mit.edu/Poetry/sonnet.V.html',\n",
       " 'http://shakespeare.mit.edu/Poetry/sonnet.VI.html',\n",
       " 'http://shakespeare.mit.edu/Poetry/sonnet.VII.html',\n",
       " 'http://shakespeare.mit.edu/Poetry/sonnet.VIII.html',\n",
       " 'http://shakespeare.mit.edu/Poetry/sonnet.IX.html',\n",
       " 'http://shakespeare.mit.edu/Poetry/sonnet.X.html',\n",
       " 'http://shakespeare.mit.edu/Poetry/sonnet.XI.html',\n",
       " 'http://shakespeare.mit.edu/Poetry/sonnet.XII.html',\n",
       " 'http://shakespeare.mit.edu/Poetry/sonnet.XIII.html',\n",
       " 'http://shakespeare.mit.edu/Poetry/sonnet.XIV.html',\n",
       " 'http://shakespeare.mit.edu/Poetry/sonnet.XV.html',\n",
       " 'http://shakespeare.mit.edu/Poetry/sonnet.XVI.html',\n",
       " 'http://shakespeare.mit.edu/Poetry/sonnet.XVII.html',\n",
       " 'http://shakespeare.mit.edu/Poetry/sonnet.XVIII.html',\n",
       " 'http://shakespeare.mit.edu/Poetry/sonnet.XIX.html',\n",
       " 'http://shakespeare.mit.edu/Poetry/sonnet.XX.html',\n",
       " 'http://shakespeare.mit.edu/Poetry/sonnet.XXI.html',\n",
       " 'http://shakespeare.mit.edu/Poetry/sonnet.XXII.html',\n",
       " 'http://shakespeare.mit.edu/Poetry/sonnet.XXIII.html',\n",
       " 'http://shakespeare.mit.edu/Poetry/sonnet.XXIV.html',\n",
       " 'http://shakespeare.mit.edu/Poetry/sonnet.XXV.html',\n",
       " 'http://shakespeare.mit.edu/Poetry/sonnet.XXVI.html',\n",
       " 'http://shakespeare.mit.edu/Poetry/sonnet.XXVII.html',\n",
       " 'http://shakespeare.mit.edu/Poetry/sonnet.XXVIII.html',\n",
       " 'http://shakespeare.mit.edu/Poetry/sonnet.XXIX.html',\n",
       " 'http://shakespeare.mit.edu/Poetry/sonnet.XXX.html',\n",
       " 'http://shakespeare.mit.edu/Poetry/sonnet.XXXI.html',\n",
       " 'http://shakespeare.mit.edu/Poetry/sonnet.XXXII.html',\n",
       " 'http://shakespeare.mit.edu/Poetry/sonnet.XXXIII.html',\n",
       " 'http://shakespeare.mit.edu/Poetry/sonnet.XXXIV.html',\n",
       " 'http://shakespeare.mit.edu/Poetry/sonnet.XXXV.html',\n",
       " 'http://shakespeare.mit.edu/Poetry/sonnet.XXXVI.html',\n",
       " 'http://shakespeare.mit.edu/Poetry/sonnet.XXXVII.html',\n",
       " 'http://shakespeare.mit.edu/Poetry/sonnet.XXXVIII.html',\n",
       " 'http://shakespeare.mit.edu/Poetry/sonnet.XXXIX.html',\n",
       " 'http://shakespeare.mit.edu/Poetry/sonnet.XL.html',\n",
       " 'http://shakespeare.mit.edu/Poetry/sonnet.XLI.html',\n",
       " 'http://shakespeare.mit.edu/Poetry/sonnet.XLII.html',\n",
       " 'http://shakespeare.mit.edu/Poetry/sonnet.XLIII.html',\n",
       " 'http://shakespeare.mit.edu/Poetry/sonnet.XLIV.html',\n",
       " 'http://shakespeare.mit.edu/Poetry/sonnet.XLV.html',\n",
       " 'http://shakespeare.mit.edu/Poetry/sonnet.XLVI.html',\n",
       " 'http://shakespeare.mit.edu/Poetry/sonnet.XLVII.html',\n",
       " 'http://shakespeare.mit.edu/Poetry/sonnet.XLVIII.html',\n",
       " 'http://shakespeare.mit.edu/Poetry/sonnet.XLIX.html',\n",
       " 'http://shakespeare.mit.edu/Poetry/sonnet.L.html',\n",
       " 'http://shakespeare.mit.edu/Poetry/sonnet.LI.html',\n",
       " 'http://shakespeare.mit.edu/Poetry/sonnet.LII.html',\n",
       " 'http://shakespeare.mit.edu/Poetry/sonnet.LIII.html',\n",
       " 'http://shakespeare.mit.edu/Poetry/sonnet.LIV.html',\n",
       " 'http://shakespeare.mit.edu/Poetry/sonnet.LV.html',\n",
       " 'http://shakespeare.mit.edu/Poetry/sonnet.LVI.html',\n",
       " 'http://shakespeare.mit.edu/Poetry/sonnet.LVII.html',\n",
       " 'http://shakespeare.mit.edu/Poetry/sonnet.LVIII.html',\n",
       " 'http://shakespeare.mit.edu/Poetry/sonnet.LIX.html',\n",
       " 'http://shakespeare.mit.edu/Poetry/sonnet.LX.html',\n",
       " 'http://shakespeare.mit.edu/Poetry/sonnet.LXI.html',\n",
       " 'http://shakespeare.mit.edu/Poetry/sonnet.LXII.html',\n",
       " 'http://shakespeare.mit.edu/Poetry/sonnet.LXIII.html',\n",
       " 'http://shakespeare.mit.edu/Poetry/sonnet.LXIV.html',\n",
       " 'http://shakespeare.mit.edu/Poetry/sonnet.LXV.html',\n",
       " 'http://shakespeare.mit.edu/Poetry/sonnet.LXVI.html',\n",
       " 'http://shakespeare.mit.edu/Poetry/sonnet.LXVII.html',\n",
       " 'http://shakespeare.mit.edu/Poetry/sonnet.LXVIII.html',\n",
       " 'http://shakespeare.mit.edu/Poetry/sonnet.LXIX.html',\n",
       " 'http://shakespeare.mit.edu/Poetry/sonnet.LXX.html',\n",
       " 'http://shakespeare.mit.edu/Poetry/sonnet.LXXI.html',\n",
       " 'http://shakespeare.mit.edu/Poetry/sonnet.LXXII.html',\n",
       " 'http://shakespeare.mit.edu/Poetry/sonnet.LXXIII.html',\n",
       " 'http://shakespeare.mit.edu/Poetry/sonnet.LXXIV.html',\n",
       " 'http://shakespeare.mit.edu/Poetry/sonnet.LXXV.html',\n",
       " 'http://shakespeare.mit.edu/Poetry/sonnet.LXXVI.html',\n",
       " 'http://shakespeare.mit.edu/Poetry/sonnet.LXXVII.html',\n",
       " 'http://shakespeare.mit.edu/Poetry/sonnet.LXXVIII.html',\n",
       " 'http://shakespeare.mit.edu/Poetry/sonnet.LXXIX.html',\n",
       " 'http://shakespeare.mit.edu/Poetry/sonnet.LXXX.html',\n",
       " 'http://shakespeare.mit.edu/Poetry/sonnet.LXXXI.html',\n",
       " 'http://shakespeare.mit.edu/Poetry/sonnet.LXXXII.html',\n",
       " 'http://shakespeare.mit.edu/Poetry/sonnet.LXXXIII.html',\n",
       " 'http://shakespeare.mit.edu/Poetry/sonnet.LXXXIV.html',\n",
       " 'http://shakespeare.mit.edu/Poetry/sonnet.LXXXV.html',\n",
       " 'http://shakespeare.mit.edu/Poetry/sonnet.LXXXVI.html',\n",
       " 'http://shakespeare.mit.edu/Poetry/sonnet.LXXXVII.html',\n",
       " 'http://shakespeare.mit.edu/Poetry/sonnet.LXXXVIII.html',\n",
       " 'http://shakespeare.mit.edu/Poetry/sonnet.LXXXIX.html',\n",
       " 'http://shakespeare.mit.edu/Poetry/sonnet.XC.html',\n",
       " 'http://shakespeare.mit.edu/Poetry/sonnet.XCI.html',\n",
       " 'http://shakespeare.mit.edu/Poetry/sonnet.XCII.html',\n",
       " 'http://shakespeare.mit.edu/Poetry/sonnet.XCIII.html',\n",
       " 'http://shakespeare.mit.edu/Poetry/sonnet.XCIV.html',\n",
       " 'http://shakespeare.mit.edu/Poetry/sonnet.XCV.html',\n",
       " 'http://shakespeare.mit.edu/Poetry/sonnet.XCVI.html',\n",
       " 'http://shakespeare.mit.edu/Poetry/sonnet.XCVII.html',\n",
       " 'http://shakespeare.mit.edu/Poetry/sonnet.XCVIII.html',\n",
       " 'http://shakespeare.mit.edu/Poetry/sonnet.XCIX.html',\n",
       " 'http://shakespeare.mit.edu/Poetry/sonnet.C.html',\n",
       " 'http://shakespeare.mit.edu/Poetry/sonnet.CI.html',\n",
       " 'http://shakespeare.mit.edu/Poetry/sonnet.CII.html',\n",
       " 'http://shakespeare.mit.edu/Poetry/sonnet.CIII.html',\n",
       " 'http://shakespeare.mit.edu/Poetry/sonnet.CIV.html',\n",
       " 'http://shakespeare.mit.edu/Poetry/sonnet.CV.html',\n",
       " 'http://shakespeare.mit.edu/Poetry/sonnet.CVI.html',\n",
       " 'http://shakespeare.mit.edu/Poetry/sonnet.CVII.html',\n",
       " 'http://shakespeare.mit.edu/Poetry/sonnet.CVIII.html',\n",
       " 'http://shakespeare.mit.edu/Poetry/sonnet.CIX.html',\n",
       " 'http://shakespeare.mit.edu/Poetry/sonnet.CX.html',\n",
       " 'http://shakespeare.mit.edu/Poetry/sonnet.CXI.html',\n",
       " 'http://shakespeare.mit.edu/Poetry/sonnet.CXII.html',\n",
       " 'http://shakespeare.mit.edu/Poetry/sonnet.CXIII.html',\n",
       " 'http://shakespeare.mit.edu/Poetry/sonnet.CXIV.html',\n",
       " 'http://shakespeare.mit.edu/Poetry/sonnet.CXV.html',\n",
       " 'http://shakespeare.mit.edu/Poetry/sonnet.CXVI.html',\n",
       " 'http://shakespeare.mit.edu/Poetry/sonnet.CXVII.html',\n",
       " 'http://shakespeare.mit.edu/Poetry/sonnet.CXVIII.html',\n",
       " 'http://shakespeare.mit.edu/Poetry/sonnet.CXIX.html',\n",
       " 'http://shakespeare.mit.edu/Poetry/sonnet.CXX.html',\n",
       " 'http://shakespeare.mit.edu/Poetry/sonnet.CXXI.html',\n",
       " 'http://shakespeare.mit.edu/Poetry/sonnet.CXXII.html',\n",
       " 'http://shakespeare.mit.edu/Poetry/sonnet.CXXIII.html',\n",
       " 'http://shakespeare.mit.edu/Poetry/sonnet.CXXIV.html',\n",
       " 'http://shakespeare.mit.edu/Poetry/sonnet.CXXV.html',\n",
       " 'http://shakespeare.mit.edu/Poetry/sonnet.CXXVI.html',\n",
       " 'http://shakespeare.mit.edu/Poetry/sonnet.CXXVII.html',\n",
       " 'http://shakespeare.mit.edu/Poetry/sonnet.CXXVIII.html',\n",
       " 'http://shakespeare.mit.edu/Poetry/sonnet.CXXIX.html',\n",
       " 'http://shakespeare.mit.edu/Poetry/sonnet.CXXX.html',\n",
       " 'http://shakespeare.mit.edu/Poetry/sonnet.CXXXI.html',\n",
       " 'http://shakespeare.mit.edu/Poetry/sonnet.CXXXII.html',\n",
       " 'http://shakespeare.mit.edu/Poetry/sonnet.CXXXIII.html',\n",
       " 'http://shakespeare.mit.edu/Poetry/sonnet.CXXXIV.html',\n",
       " 'http://shakespeare.mit.edu/Poetry/sonnet.CXXXV.html',\n",
       " 'http://shakespeare.mit.edu/Poetry/sonnet.CXXXVI.html',\n",
       " 'http://shakespeare.mit.edu/Poetry/sonnet.CXXXVII.html',\n",
       " 'http://shakespeare.mit.edu/Poetry/sonnet.CXXXVIII.html',\n",
       " 'http://shakespeare.mit.edu/Poetry/sonnet.CXXXIX.html',\n",
       " 'http://shakespeare.mit.edu/Poetry/sonnet.CXL.html',\n",
       " 'http://shakespeare.mit.edu/Poetry/sonnet.CXLI.html',\n",
       " 'http://shakespeare.mit.edu/Poetry/sonnet.CXLII.html',\n",
       " 'http://shakespeare.mit.edu/Poetry/sonnet.CXLIII.html',\n",
       " 'http://shakespeare.mit.edu/Poetry/sonnet.CXLIV.html',\n",
       " 'http://shakespeare.mit.edu/Poetry/sonnet.CXLV.html',\n",
       " 'http://shakespeare.mit.edu/Poetry/sonnet.CXLVI.html',\n",
       " 'http://shakespeare.mit.edu/Poetry/sonnet.CXLVII.html',\n",
       " 'http://shakespeare.mit.edu/Poetry/sonnet.CXLVIII.html',\n",
       " 'http://shakespeare.mit.edu/Poetry/sonnet.CXLIX.html',\n",
       " 'http://shakespeare.mit.edu/Poetry/sonnet.CL.html',\n",
       " 'http://shakespeare.mit.edu/Poetry/sonnet.CLI.html',\n",
       " 'http://shakespeare.mit.edu/Poetry/sonnet.CLII.html',\n",
       " 'http://shakespeare.mit.edu/Poetry/sonnet.CLIII.html',\n",
       " 'http://shakespeare.mit.edu/Poetry/sonnet.CLIV.html']"
      ]
     },
     "execution_count": 9,
     "metadata": {},
     "output_type": "execute_result"
    }
   ],
   "source": [
    "poem_links"
   ]
  },
  {
   "cell_type": "code",
   "execution_count": null,
   "metadata": {},
   "outputs": [],
   "source": [
    "# link = poem_links[1]\n",
    "\n",
    "# response = requests.get(link)\n",
    "# main_soup = BeautifulSoup(response.content, 'html.parser')\n",
    "\n",
    "# blockquote_element = main_soup.find('blockquote')\n",
    "\n",
    "# text = blockquote_element.get_text()\n",
    "\n",
    "# print(text)"
   ]
  },
  {
   "cell_type": "code",
   "execution_count": 12,
   "metadata": {},
   "outputs": [
    {
     "name": "stdout",
     "output_type": "stream",
     "text": [
      "Scraping completed. The texts are saved in 'Poems\\WIlliam Shakespeare\\Sonnet.txt'.\n"
     ]
    }
   ],
   "source": [
    "output_file = 'Poems\\William Shakespeare\\Sonnet.txt'\n",
    "\n",
    "with open(output_file, 'w', encoding='utf-8') as file:\n",
    "    for link in poem_links:\n",
    "        response = requests.get(link)        \n",
    "        soup = BeautifulSoup(response.text, 'html.parser')\n",
    "        blockquote_element = soup.find('blockquote')\n",
    "        text = blockquote_element.get_text()        \n",
    "        file.write(text)\n",
    "        file.write('\\n')\n",
    "\n",
    "print(f\"Scraping completed. The texts are saved in '{output_file}'.\")\n"
   ]
  },
  {
   "cell_type": "code",
   "execution_count": 14,
   "metadata": {},
   "outputs": [],
   "source": [
    "# getting sonnet links\n",
    "lovers_complaint_url = main_url + links[1]['href']\n",
    "\n",
    "response = requests.get(sonnet_url)\n",
    "main_soup = BeautifulSoup(response.content, 'html.parser')"
   ]
  },
  {
   "cell_type": "code",
   "execution_count": 15,
   "metadata": {},
   "outputs": [
    {
     "data": {
      "text/plain": [
       "'http://shakespeare.mit.edu/Poetry/LoversComplaint.html'"
      ]
     },
     "execution_count": 15,
     "metadata": {},
     "output_type": "execute_result"
    }
   ],
   "source": [
    "lovers_complaint_url"
   ]
  },
  {
   "cell_type": "code",
   "execution_count": 20,
   "metadata": {},
   "outputs": [],
   "source": [
    "# link = lovers_complaint_url\n",
    "\n",
    "# response = requests.get(link)\n",
    "# main_soup = BeautifulSoup(response.content, 'html.parser')\n",
    "\n",
    "# blockquote_elements = main_soup.find_all('blockquote')\n",
    "# for blockquote_element in blockquote_elements:\n",
    "#     main_soup.find('blockquote')\n",
    "#     text = blockquote_element.get_text()\n",
    "#     print(text)\n",
    "\n",
    "# blockquote_element"
   ]
  },
  {
   "cell_type": "code",
   "execution_count": 23,
   "metadata": {},
   "outputs": [
    {
     "name": "stdout",
     "output_type": "stream",
     "text": [
      "Scraping completed. The texts are saved in 'Poems\\William Shakespeare\\Lovers complaint.txt'.\n"
     ]
    }
   ],
   "source": [
    "output_file = 'Poems\\William Shakespeare\\Lovers complaint.txt'\n",
    "\n",
    "with open(output_file, 'w', encoding='utf-8') as file:\n",
    "    response = requests.get(lovers_complaint_url)        \n",
    "    soup = BeautifulSoup(response.text, 'html.parser')\n",
    "    blockquote_elements = soup.find_all('blockquote')\n",
    "    for blockquote_element in blockquote_elements:\n",
    "        text = blockquote_element.get_text()        \n",
    "        file.write(text)\n",
    "        file.write('\\n')\n",
    "\n",
    "print(f\"Scraping completed. The texts are saved in '{output_file}'.\")"
   ]
  }
 ],
 "metadata": {
  "kernelspec": {
   "display_name": "Python 3",
   "language": "python",
   "name": "python3"
  },
  "language_info": {
   "codemirror_mode": {
    "name": "ipython",
    "version": 3
   },
   "file_extension": ".py",
   "mimetype": "text/x-python",
   "name": "python",
   "nbconvert_exporter": "python",
   "pygments_lexer": "ipython3",
   "version": "3.9.16"
  },
  "orig_nbformat": 4
 },
 "nbformat": 4,
 "nbformat_minor": 2
}
